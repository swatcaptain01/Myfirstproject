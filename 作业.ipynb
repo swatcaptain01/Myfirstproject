{
 "cells": [
  {
   "cell_type": "markdown",
   "metadata": {},
   "source": [
    "### 案例名称：盲盒奖品 \n",
    "### 案例描述：\n",
    "### 某比赛共设三个奖项，分别是：一等奖、二等奖、三等奖，\n",
    "### 一等奖的奖品有三种选择：电饭煲、空调、洗衣机， \n",
    "### 二等奖的奖品有三种选择：球鞋、手表、滑板，\n",
    "### 三等奖的奖品有三种选择：对联、手袋、钙片 \n",
    "### 现需要编写一个函数，函数中设置一个参数，该参数用来接收对应奖项的字符串。即：如果参数值等于‘一等奖’，则返回对应奖项下可选择奖品的任意一个，从而实现盲盒抽取效果。如果参数值的字符串不是一等奖、二等奖或者三等奖，则直接返回没有该奖项字样。比如：参数值等于‘四等奖’，则直接返回没有该奖项。\n"
   ]
  },
  {
   "cell_type": "code",
   "execution_count": 10,
   "metadata": {},
   "outputs": [
    {
     "name": "stdout",
     "output_type": "stream",
     "text": [
      "几等奖,输入数字即可1\n",
      "1\n",
      "洗衣机\n"
     ]
    }
   ],
   "source": [
    "# 实现函数, 抽奖\n",
    "# 参数 几等奖 \n",
    "# 返回值 奖品 \n",
    "import random\n",
    "user_jiang = int(input(\"几等奖,输入数字即可\"))\n",
    "print(user_jiang)\n",
    "def choujiang(jiangxiang):\n",
    "    # 判断奖几等 \n",
    "    if jiangxiang == 1:\n",
    "        # 一等奖 \n",
    "        yidengjiang_list = ['电饭煲','空调','洗衣机']\n",
    "        num = random.randint(0,2) # 0,1,2\n",
    "        return yidengjiang_list[num]\n",
    "    elif jiangxiang == 2:\n",
    "        # 二等奖\n",
    "        erdengjiang_list = ['球鞋','手表','滑板']\n",
    "        num = random.randint(0,2) # 0,1,2\n",
    "        return erdengjiang_list[num]\n",
    "    elif jiangxiang == 3:\n",
    "        # 三等奖\n",
    "        sandengjiang_list = ['对联','手袋','钙片']\n",
    "        num = random.randint(0,2) # 0,1,2\n",
    "        return sandengjiang_list[num]\n",
    "    else:\n",
    "        return '没有该奖项'\n",
    "\n",
    "res = choujiang(user_jiang)\n",
    "print(res)"
   ]
  },
  {
   "cell_type": "code",
   "execution_count": 7,
   "metadata": {},
   "outputs": [
    {
     "data": {
      "text/plain": [
       "2"
      ]
     },
     "execution_count": 7,
     "metadata": {},
     "output_type": "execute_result"
    }
   ],
   "source": [
    "import random\n",
    "# 随机抽取 0,1,2 三个整数\n",
    "random.randint(0,2)"
   ]
  },
  {
   "cell_type": "code",
   "execution_count": 14,
   "metadata": {},
   "outputs": [
    {
     "name": "stdout",
     "output_type": "stream",
     "text": [
      "几等奖,输入数字即可2\n",
      "2\n",
      "随机输入一个数字7\n",
      "7\n",
      "手表\n"
     ]
    }
   ],
   "source": [
    "# 实现函数, 抽奖\n",
    "# 参数 几等奖 \n",
    "# 返回值 奖品 \n",
    "# import random\n",
    "user_jiang = int(input(\"几等奖,输入数字即可\"))\n",
    "print(user_jiang)\n",
    "user_num = int(input(\"随机输入一个数字\"))\n",
    "print(user_num)\n",
    "def choujiang(jiangxiang,number):\n",
    "    # 判断奖几等 \n",
    "    if jiangxiang == 1:\n",
    "        # 一等奖 \n",
    "        yidengjiang_list = ['电饭煲','空调','洗衣机']\n",
    "        num = number%3\n",
    "        return yidengjiang_list[num]\n",
    "    elif jiangxiang == 2:\n",
    "        # 二等奖\n",
    "        erdengjiang_list = ['球鞋','手表','滑板']\n",
    "        num = number%3\n",
    "        return erdengjiang_list[num]\n",
    "    elif jiangxiang == 3:\n",
    "        # 三等奖\n",
    "        sandengjiang_list = ['对联','手袋','钙片']\n",
    "        num = number%3\n",
    "        return sandengjiang_list[num]\n",
    "    else:\n",
    "        return '没有该奖项'\n",
    "\n",
    "res = choujiang(user_jiang,user_num)\n",
    "print(res)"
   ]
  },
  {
   "cell_type": "code",
   "execution_count": null,
   "metadata": {},
   "outputs": [],
   "source": []
  }
 ],
 "metadata": {
  "kernelspec": {
   "display_name": "Python 3",
   "language": "python",
   "name": "python3"
  },
  "language_info": {
   "codemirror_mode": {
    "name": "ipython",
    "version": 3
   },
   "file_extension": ".py",
   "mimetype": "text/x-python",
   "name": "python",
   "nbconvert_exporter": "python",
   "pygments_lexer": "ipython3",
   "version": "3.8.3"
  }
 },
 "nbformat": 4,
 "nbformat_minor": 4
}
