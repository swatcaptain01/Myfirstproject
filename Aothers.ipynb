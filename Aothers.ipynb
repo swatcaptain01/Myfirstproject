{
 "cells": [
  {
   "cell_type": "code",
   "execution_count": null,
   "metadata": {},
   "outputs": [],
   "source": [
    "__all__ = [\"ag_num\",\"ashow\"]\n",
    "# 定义全局变量\n",
    "ag_num = 10\n",
    "\n",
    "# 定义函数\n",
    "def ashow():\n",
    "    print(\"我是一个函数\")\n",
    "    \n",
    "# 定义类\n",
    "class AStudent(object):\n",
    "    def __init__(self, name, age):\n",
    "        self.name = name\n",
    "        self.age = age\n",
    "    def show_msg(self):\n",
    "        print(self.name, self.age) \n",
    "        \n",
    "if __name__ == '__main__':\n",
    "    ashow()"
   ]
  }
 ],
 "metadata": {
  "kernelspec": {
   "display_name": "Python 3",
   "language": "python",
   "name": "python3"
  },
  "language_info": {
   "codemirror_mode": {
    "name": "ipython",
    "version": 3
   },
   "file_extension": ".py",
   "mimetype": "text/x-python",
   "name": "python",
   "nbconvert_exporter": "python",
   "pygments_lexer": "ipython3",
   "version": "3.8.3"
  }
 },
 "nbformat": 4,
 "nbformat_minor": 4
}
