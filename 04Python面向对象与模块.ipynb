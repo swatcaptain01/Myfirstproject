{
 "cells": [
  {
   "cell_type": "markdown",
   "metadata": {},
   "source": [
    "# 1.体验面向对象"
   ]
  },
  {
   "cell_type": "code",
   "execution_count": 1,
   "metadata": {},
   "outputs": [
    {
     "name": "stdout",
     "output_type": "stream",
     "text": [
      "1.放水\n",
      "2.放衣服\n",
      "3.放洗衣液\n",
      "4.开洗衣机启动\n",
      "5.晾晒 \n"
     ]
    }
   ],
   "source": [
    "# 洗衣服\n",
    "# 1.放水 2.放衣服 3.放洗衣液 4.开洗衣机启动  5.晾晒 \n",
    "# 面向过程  完成这件事情需要几步 \n",
    "print(\"1.放水\") \n",
    "print(\"2.放衣服\")\n",
    "print(\"3.放洗衣液\")\n",
    "print(\"4.开洗衣机启动\")\n",
    "print(\"5.晾晒 \")"
   ]
  },
  {
   "cell_type": "code",
   "execution_count": 2,
   "metadata": {},
   "outputs": [
    {
     "name": "stdout",
     "output_type": "stream",
     "text": [
      "1.放水\n",
      "2.放衣服\n",
      "3.放洗衣液\n",
      "4.开洗衣机启动\n",
      "5.晾晒 \n"
     ]
    }
   ],
   "source": [
    "def wash():\n",
    "    print(\"1.放水\") \n",
    "    print(\"2.放衣服\")\n",
    "    print(\"3.放洗衣液\")\n",
    "    print(\"4.开洗衣机启动\")\n",
    "    print(\"5.晾晒 \") \n",
    "wash()"
   ]
  },
  {
   "cell_type": "code",
   "execution_count": 7,
   "metadata": {},
   "outputs": [
    {
     "name": "stdout",
     "output_type": "stream",
     "text": [
      "不要管我怎么洗,我就是能给你洗干净\n",
      "不要管我怎么洗,我就是能给你洗干净\n",
      "不要管我怎么洗,我就是能给你洗干净\n"
     ]
    }
   ],
   "source": [
    "# 面向对象  完成这件事,需要什么样的对象(具有这个功能就可以了)\n",
    "# 找一个会洗衣服的男朋友 \n",
    "class BoyFriend(object):\n",
    "    def wash_clothes(self):\n",
    "        print(\"不要管我怎么洗,我就是能给你洗干净\") \n",
    "# 对象 \n",
    "zhangsan = BoyFriend() \n",
    "zhangsan.wash_clothes() \n",
    "\n",
    "# 对象 \n",
    "lisi = BoyFriend() \n",
    "lisi.wash_clothes() \n",
    "\n",
    "# 对象\n",
    "Mike = BoyFriend() \n",
    "Mike.wash_clothes()"
   ]
  },
  {
   "cell_type": "markdown",
   "metadata": {},
   "source": [
    "# 2.类与对象"
   ]
  },
  {
   "cell_type": "code",
   "execution_count": 8,
   "metadata": {},
   "outputs": [],
   "source": [
    "# 类\n",
    "# 统称, 概念\n",
    "# 对象\n",
    "# 具体存在的事物\n",
    "# 汽车 \n",
    "# 奥迪汽车 \n",
    "# 助教老师今天开的那辆红色的奥迪A4L \n",
    "# 乐安同学在家中使用的白色书桌 \n",
    "\n",
    "# 类是对象统称\n",
    "# 类创建对象的模板 "
   ]
  },
  {
   "cell_type": "code",
   "execution_count": 10,
   "metadata": {},
   "outputs": [
    {
     "name": "stdout",
     "output_type": "stream",
     "text": [
      "hero\n",
      "hello world\n",
      "hero\n",
      "hello world\n"
     ]
    }
   ],
   "source": [
    "# 创建类 \n",
    "class Hero(object):\n",
    "    def info(self):\n",
    "        print(\"hero\")\n",
    "        print(\"hello world\")\n",
    "# 创建对象 \n",
    "my_hero = Hero()\n",
    "my_hero.info()\n",
    "\n",
    "# 创建对象\n",
    "my_second_hero = Hero() \n",
    "my_second_hero.info() "
   ]
  },
  {
   "cell_type": "code",
   "execution_count": 13,
   "metadata": {},
   "outputs": [
    {
     "data": {
      "text/plain": [
       "['a', 'b', 'c', 'd', 'e', 'f', 'z']"
      ]
     },
     "execution_count": 13,
     "metadata": {},
     "output_type": "execute_result"
    }
   ],
   "source": [
    "my_list = list('abcdef') \n",
    "my_list.append('z') \n",
    "my_list"
   ]
  },
  {
   "cell_type": "code",
   "execution_count": 14,
   "metadata": {},
   "outputs": [
    {
     "ename": "SyntaxError",
     "evalue": "unexpected EOF while parsing (<ipython-input-14-60dce35cfe62>, line 2)",
     "output_type": "error",
     "traceback": [
      "\u001b[0;36m  File \u001b[0;32m\"<ipython-input-14-60dce35cfe62>\"\u001b[0;36m, line \u001b[0;32m2\u001b[0m\n\u001b[0;31m    class Person(object):\u001b[0m\n\u001b[0m                         ^\u001b[0m\n\u001b[0;31mSyntaxError\u001b[0m\u001b[0;31m:\u001b[0m unexpected EOF while parsing\n"
     ]
    }
   ],
   "source": [
    "# \n",
    "class Person(object):\n",
    "    def walk(self):\n",
    "        print(\"walk\") \n",
    "        \n",
    "ww = Person()"
   ]
  },
  {
   "cell_type": "markdown",
   "metadata": {},
   "source": [
    "# 3.对象的属性和方法"
   ]
  },
  {
   "cell_type": "markdown",
   "metadata": {},
   "source": [
    "## 3.1 获取对象的属性 "
   ]
  },
  {
   "cell_type": "code",
   "execution_count": 17,
   "metadata": {},
   "outputs": [
    {
     "name": "stdout",
     "output_type": "stream",
     "text": [
      "英雄德玛西亚的生命值2600\n",
      "hero\n",
      "hello world\n",
      "英雄瞎哥的生命值3600\n",
      "hero\n",
      "hello world\n"
     ]
    }
   ],
   "source": [
    "# 创建类 \n",
    "class Hero(object):\n",
    "    def info(self):\n",
    "        print(\"hero\")\n",
    "        print(\"hello world\")\n",
    "# 创建对象 \n",
    "my_hero = Hero() \n",
    "\n",
    "# 对象添加属性\n",
    "my_hero.name = \"德玛西亚\"\n",
    "my_hero.hp = 2600  \n",
    "print(\"英雄%s的生命值%d\" %(my_hero.name,my_hero.hp))\n",
    "# 对象使用方法 \n",
    "my_hero.info()\n",
    "\n",
    "# 对象添加属性\n",
    "my_second_hero.name = \"瞎哥\"\n",
    "my_second_hero.hp = 3600  \n",
    "print(\"英雄%s的生命值%d\" %(my_second_hero.name,my_second_hero.hp))\n",
    "# 对象使用方法 \n",
    "my_second_hero.info()"
   ]
  },
  {
   "cell_type": "markdown",
   "metadata": {},
   "source": [
    "## 3.2 通过self类中获取对象属性和方法 "
   ]
  },
  {
   "cell_type": "code",
   "execution_count": 20,
   "metadata": {},
   "outputs": [
    {
     "name": "stdout",
     "output_type": "stream",
     "text": [
      "hero\n",
      "hello world\n",
      "英雄的名字德玛西亚,生命值2600\n",
      "----------\n",
      "英雄瞎哥的生命值3600\n",
      "hero\n",
      "hello world\n",
      "英雄的名字瞎哥,生命值3600\n",
      "----------\n"
     ]
    }
   ],
   "source": [
    "# 创建类 \n",
    "class Hero(object):\n",
    "    def info(self):\n",
    "        print(\"hero\")\n",
    "        print(\"hello world\")\n",
    "        print(\"英雄的名字%s,生命值%d\" %(self.name,self.hp))\n",
    "        print(\"----------\")\n",
    "# 创建对象 \n",
    "my_hero = Hero() \n",
    "\n",
    "# 对象添加属性\n",
    "my_hero.name = \"德玛西亚\"\n",
    "my_hero.hp = 2600  \n",
    "# print(\"英雄%s的生命值%d\" %(my_hero.name,my_hero.hp))\n",
    "# 对象使用方法 \n",
    "my_hero.info()\n",
    "\n",
    "# 创建对象 \n",
    "my_second_hero = Hero()\n",
    "# 对象添加属性\n",
    "my_second_hero.name = \"瞎哥\"\n",
    "my_second_hero.hp = 3600  \n",
    "print(\"英雄%s的生命值%d\" %(my_second_hero.name,my_second_hero.hp))\n",
    "# 对象使用方法 \n",
    "my_second_hero.info()"
   ]
  },
  {
   "cell_type": "markdown",
   "metadata": {},
   "source": [
    "## 3.3 init"
   ]
  },
  {
   "cell_type": "code",
   "execution_count": 25,
   "metadata": {},
   "outputs": [
    {
     "name": "stdout",
     "output_type": "stream",
     "text": [
      "init方法\n",
      "家族\n",
      "China\n",
      "init方法\n",
      "家族\n",
      "China\n"
     ]
    }
   ],
   "source": [
    "# 创建类 \n",
    "class Hero(object):\n",
    "    # 魔法方法\n",
    "    # 不用调用,就能够自动执行\n",
    "    # 通过这个类创建对象就能够执行\n",
    "    # 在一个类当中, 无论你写不写__init__方法,它都是存在的\n",
    "    def __init__(self):\n",
    "        print(\"init方法\")\n",
    "        # 固定\n",
    "        self.family = \"家族\"\n",
    "        self.country = \"China\"\n",
    "    def info(self):\n",
    "        print(\"hero\")\n",
    "        print(\"hello world\")\n",
    "        print(\"英雄的名字%s,生命值%d\" %(self.name,self.hp))\n",
    "        print(\"----------\")\n",
    "my_hero = Hero()\n",
    "print(my_hero.family)\n",
    "print(my_hero.country)\n",
    "\n",
    "my_third = Hero() \n",
    "print(my_third.family)\n",
    "print(my_third.country)"
   ]
  },
  {
   "cell_type": "markdown",
   "metadata": {},
   "source": [
    "## 3.4带有参数的init"
   ]
  },
  {
   "cell_type": "code",
   "execution_count": 36,
   "metadata": {},
   "outputs": [
    {
     "name": "stdout",
     "output_type": "stream",
     "text": [
      "init方法\n"
     ]
    }
   ],
   "source": [
    "# 创建类 \n",
    "class Hero(object):\n",
    "    # 魔法方法\n",
    "    # 不用调用,就能够自动执行\n",
    "    # 通过这个类创建对象就能够执行\n",
    "    # 在一个类当中, 无论你写不写__init__方法,它都是存在的\n",
    "    def __init__(self,name,age,hp):\n",
    "        print(\"init方法\")\n",
    "        # 固定\n",
    "        self.family = \"家族\"\n",
    "        self.country = \"China\"\n",
    "        # \n",
    "        self.name = name \n",
    "        self.age = age \n",
    "        self.hp = hp \n",
    "        \n",
    "    def info(self):\n",
    "        print(\"hero\")\n",
    "        print(\"hello world\")\n",
    "        print(\"英雄的名字%s,生命值%d\" %(self.name,self.hp))\n",
    "        print(\"----------\")\n",
    "\n",
    "blind = Hero(\"瞎哥\",18,2600)\n",
    "# print(blind.country) \n",
    "# print(blind.age)\n",
    "# print(blind.hp) \n",
    "\n",
    "# gailun = Hero(\"盖伦\",20,4200) \n",
    "# print(gailun.country) \n",
    "# print(gailun.age)\n",
    "# gailun.info()"
   ]
  },
  {
   "cell_type": "code",
   "execution_count": 42,
   "metadata": {},
   "outputs": [
    {
     "name": "stdout",
     "output_type": "stream",
     "text": [
      "张一星开始洗衣服\n",
      "修理电灯\n",
      "AKX开始洗衣服\n",
      "修理电灯\n"
     ]
    },
    {
     "data": {
      "text/plain": [
       "'男'"
      ]
     },
     "execution_count": 42,
     "metadata": {},
     "output_type": "execute_result"
    }
   ],
   "source": [
    "# 男朋友 \n",
    "# 属性: 姓名, 性别, 年龄, 国籍, 地区 \n",
    "# 方法: 会洗衣服, 会修电灯  \n",
    "class BoyFriend(object):\n",
    "    # 属性\n",
    "    def __init__(self,name,age,address):\n",
    "        # 固定 \n",
    "        # 性别 ,国籍 \n",
    "        self.sex = \"男\" \n",
    "        self.country = \"China\"\n",
    "        # 对象区别对待 \n",
    "        self.name = name \n",
    "        self.age = age \n",
    "        self.addr = address \n",
    "    # 方法 \n",
    "    def wash(self):\n",
    "        print(\"%s开始洗衣服\" %self.name) \n",
    "        \n",
    "    def light(self):\n",
    "        print(\"修理电灯\")\n",
    "# 小丽 \n",
    "zhangyixing = BoyFriend('张一星',18,'北京') \n",
    "zhangyixing.wash() \n",
    "zhangyixing.light() \n",
    "zhangyixing.country \n",
    "zhangyixing.age  \n",
    "\n",
    "# AKz \n",
    "akX = BoyFriend(\"AKX\",20,'上海') \n",
    "akX.wash() \n",
    "akX.light() \n",
    "akX.sex"
   ]
  },
  {
   "cell_type": "code",
   "execution_count": 44,
   "metadata": {},
   "outputs": [
    {
     "name": "stdout",
     "output_type": "stream",
     "text": [
      "140297086909552\n",
      "140297039879184\n",
      "张一星开始洗衣服\n",
      "4394777336\n",
      "AKX开始洗衣服\n",
      "4394777336\n"
     ]
    }
   ],
   "source": [
    "# 对象地址 \n",
    "print(id(zhangyixing)) # 140297086909552\n",
    "print(id(akX))         # 140297039879184\n",
    " \n",
    "# 方法地址\n",
    "print(id(zhangyixing.wash())) # 4394777336\n",
    "print(id(akX.wash()))        # 4394777336"
   ]
  },
  {
   "cell_type": "markdown",
   "metadata": {},
   "source": [
    "# 4.继承"
   ]
  },
  {
   "cell_type": "code",
   "execution_count": 48,
   "metadata": {},
   "outputs": [
    {
     "name": "stdout",
     "output_type": "stream",
     "text": [
      "<女娲>造了一个人\n"
     ]
    }
   ],
   "source": [
    "class Person(object):\n",
    "    def __init__(self):\n",
    "        self.name = \"女娲\" \n",
    "        \n",
    "    def make_person(self):\n",
    "        print(\"<%s>造了一个人\" % self.name ) \n",
    "\n",
    "# 继承了Person类 \n",
    "# Teacher类子类, Person父类 \n",
    "# 子类可以继承父类的属性和方法 \n",
    "class Teacher(Person):\n",
    "    pass \n",
    "\n",
    "# 对象 \n",
    "# 子类对象直接使用父类属性,父类方法 \n",
    "panda = Teacher() \n",
    "panda.name\n",
    "panda.make_person()"
   ]
  },
  {
   "cell_type": "code",
   "execution_count": 53,
   "metadata": {},
   "outputs": [
    {
     "name": "stdout",
     "output_type": "stream",
     "text": [
      "夏当\n",
      "<夏当>造了一个人\n",
      "走路\n",
      "说\n"
     ]
    }
   ],
   "source": [
    "# 多继承 \n",
    "\n",
    "class Women(object):\n",
    "    def __init__(self):\n",
    "        self.name = \"女娲\" \n",
    "        self.family = \"女系社会\"\n",
    "    def make_person(self):\n",
    "        print(\"<%s>造了一个人\" % self.name ) \n",
    "    \n",
    "    def run(self):\n",
    "        print(\"走路\") \n",
    "        \n",
    "class Men(object):\n",
    "    def __init__(self):\n",
    "        self.name = \"夏当\" \n",
    "        \n",
    "    def make_person(self):\n",
    "        print(\"<%s>造了一个人\" % self.name ) \n",
    "    \n",
    "    def speak(self):\n",
    "        print(\"说\")         \n",
    "\n",
    "# 子类可以继承多个父类的属性和方法 \n",
    "# 属性和方法两个父类中都有, 继承顺序 \n",
    "class Person(Men,Women):\n",
    "    pass \n",
    "\n",
    "ls = Person() \n",
    "print(ls.name) # 女娲\n",
    "# print(ls.family)  # 女系社会\n",
    "ls.make_person()  # <女娲>造了一个人\n",
    "ls.run()          # 走路\n",
    "ls.speak()        # 说 "
   ]
  },
  {
   "cell_type": "markdown",
   "metadata": {},
   "source": [
    "# 5.多态"
   ]
  },
  {
   "cell_type": "code",
   "execution_count": 55,
   "metadata": {},
   "outputs": [
    {
     "name": "stdout",
     "output_type": "stream",
     "text": [
      "Dog is running...\n",
      "Dog is running...\n",
      "Cat is running...\n",
      "Cat is running...\n"
     ]
    }
   ],
   "source": [
    "# 必须继承 \n",
    "class Animal(object):\n",
    "    def run(self):\n",
    "        print('Animal is running...')\n",
    "# 子类重写了父类方法        \n",
    "class Dog(Animal):\n",
    "    def run(self):\n",
    "        print('Dog is running...')\n",
    "\n",
    "class Cat(Animal):\n",
    "    def run(self):\n",
    "        print('Cat is running...') \n",
    "        \n",
    "\n",
    "def run_two(animal):\n",
    "    animal.run()\n",
    "    animal.run() \n",
    "\n",
    "dog = Dog() \n",
    "cat = Cat() \n",
    "\n",
    "run_two(dog) \n",
    "run_two(cat)"
   ]
  },
  {
   "cell_type": "markdown",
   "metadata": {},
   "source": [
    "# 6.模块"
   ]
  },
  {
   "cell_type": "code",
   "execution_count": 56,
   "metadata": {},
   "outputs": [],
   "source": [
    "# 字  词  句  段  篇  章"
   ]
  },
  {
   "cell_type": "code",
   "execution_count": 59,
   "metadata": {},
   "outputs": [
    {
     "name": "stdout",
     "output_type": "stream",
     "text": [
      "10\n",
      "我是一个函数\n",
      "李四 20\n"
     ]
    }
   ],
   "source": [
    "# 模块 others.py \n",
    "# 引入模块\n",
    "import others \n",
    "\n",
    "# 使用模块中的功能 \n",
    "print(others.g_num) \n",
    "others.show() \n",
    "student = others.Student(\"李四\",20) \n",
    "student.show_msg()"
   ]
  },
  {
   "cell_type": "code",
   "execution_count": 63,
   "metadata": {
    "scrolled": true
   },
   "outputs": [
    {
     "name": "stdout",
     "output_type": "stream",
     "text": [
      "10\n",
      "我是一个函数\n",
      "张三 18\n"
     ]
    }
   ],
   "source": [
    "\n",
    "# 引入模块 \n",
    "from others import * \n",
    "# 使用,不用写模块的名字 \n",
    "print(g_num) \n",
    "show() \n",
    "stu = Student(\"张三\",18)\n",
    "stu.show_msg()\n",
    "\n"
   ]
  },
  {
   "cell_type": "code",
   "execution_count": 66,
   "metadata": {},
   "outputs": [
    {
     "name": "stdout",
     "output_type": "stream",
     "text": [
      "10\n",
      "我是一个函数\n"
     ]
    },
    {
     "ename": "NameError",
     "evalue": "name 'AStudent' is not defined",
     "output_type": "error",
     "traceback": [
      "\u001b[0;31m---------------------------------------------------------------------------\u001b[0m",
      "\u001b[0;31mNameError\u001b[0m                                 Traceback (most recent call last)",
      "\u001b[0;32m<ipython-input-66-ef659e44d3a6>\u001b[0m in \u001b[0;36m<module>\u001b[0;34m\u001b[0m\n\u001b[1;32m      2\u001b[0m \u001b[0mprint\u001b[0m\u001b[0;34m(\u001b[0m\u001b[0mag_num\u001b[0m\u001b[0;34m)\u001b[0m\u001b[0;34m\u001b[0m\u001b[0;34m\u001b[0m\u001b[0m\n\u001b[1;32m      3\u001b[0m \u001b[0mashow\u001b[0m\u001b[0;34m(\u001b[0m\u001b[0;34m)\u001b[0m\u001b[0;34m\u001b[0m\u001b[0;34m\u001b[0m\u001b[0m\n\u001b[0;32m----> 4\u001b[0;31m \u001b[0mstud\u001b[0m \u001b[0;34m=\u001b[0m \u001b[0mAStudent\u001b[0m\u001b[0;34m(\u001b[0m\u001b[0;34m'ww'\u001b[0m\u001b[0;34m,\u001b[0m\u001b[0;36m30\u001b[0m\u001b[0;34m)\u001b[0m\u001b[0;34m\u001b[0m\u001b[0;34m\u001b[0m\u001b[0m\n\u001b[0m",
      "\u001b[0;31mNameError\u001b[0m: name 'AStudent' is not defined"
     ]
    }
   ],
   "source": [
    "from Aothers import *  \n",
    "print(ag_num) \n",
    "ashow() \n",
    "stud = AStudent('ww',30)"
   ]
  },
  {
   "cell_type": "code",
   "execution_count": 67,
   "metadata": {},
   "outputs": [
    {
     "name": "stdout",
     "output_type": "stream",
     "text": [
      "ww 30\n"
     ]
    }
   ],
   "source": [
    "import Aothers \n",
    "studen = Aothers.AStudent('ww',30) \n",
    "studen.show_msg()"
   ]
  },
  {
   "cell_type": "markdown",
   "metadata": {},
   "source": [
    "# 7.第三方模块"
   ]
  },
  {
   "cell_type": "code",
   "execution_count": 68,
   "metadata": {},
   "outputs": [
    {
     "name": "stdout",
     "output_type": "stream",
     "text": [
      "3.141592653589793\n",
      "2.718281828459045\n",
      "5\n",
      "4\n"
     ]
    }
   ],
   "source": [
    "import math \n",
    "dir(math)\n",
    "print(math.pi)\n",
    "print(math.e) \n",
    "\n",
    "res = math.ceil(4.1) \n",
    "print(res)\n",
    "\n",
    "res = math.floor(4.9) \n",
    "print(res)"
   ]
  },
  {
   "cell_type": "code",
   "execution_count": 69,
   "metadata": {},
   "outputs": [
    {
     "name": "stdout",
     "output_type": "stream",
     "text": [
      "1634307016.7787688\n",
      "时间戳 1634307016.779157\n",
      "本地时间 time.struct_time(tm_year=2021, tm_mon=10, tm_mday=15, tm_hour=22, tm_min=10, tm_sec=16, tm_wday=4, tm_yday=288, tm_isdst=0)\n",
      "2021年10月15日 22:10:16\n"
     ]
    }
   ],
   "source": [
    "import time \n",
    "print(time.time())\n",
    "# 1634306324.9857202 \n",
    "# 1634306360  秒  , 毫秒数 13 \n",
    "# 计算机元年 1970年1月1日 0:0:0  \n",
    "\n",
    "ticks = time.time() \n",
    "print(\"时间戳\",ticks)  \n",
    "\n",
    "localtime = time.localtime(ticks) \n",
    "print(\"本地时间\", localtime) \n",
    "\n",
    "print(time.strftime(\"%Y年%m月%d日 %H:%M:%S\",localtime))"
   ]
  },
  {
   "cell_type": "code",
   "execution_count": 70,
   "metadata": {},
   "outputs": [
    {
     "name": "stdout",
     "output_type": "stream",
     "text": [
      "小龙虾\n",
      "小龙虾,指对方又聋又瞎\n"
     ]
    }
   ],
   "source": [
    "import time \n",
    "print(\"小龙虾\") \n",
    "time.sleep(10)\n",
    "print(\"小龙虾,指对方又聋又瞎\")"
   ]
  },
  {
   "cell_type": "code",
   "execution_count": null,
   "metadata": {},
   "outputs": [],
   "source": []
  }
 ],
 "metadata": {
  "kernelspec": {
   "display_name": "Python 3",
   "language": "python",
   "name": "python3"
  },
  "language_info": {
   "codemirror_mode": {
    "name": "ipython",
    "version": 3
   },
   "file_extension": ".py",
   "mimetype": "text/x-python",
   "name": "python",
   "nbconvert_exporter": "python",
   "pygments_lexer": "ipython3",
   "version": "3.8.3"
  }
 },
 "nbformat": 4,
 "nbformat_minor": 4
}
